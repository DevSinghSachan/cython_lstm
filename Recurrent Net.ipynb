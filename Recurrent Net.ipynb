{
 "metadata": {
  "name": "",
  "signature": "sha256:28cbdeffb359457b803c4526390ccf037ffe4b44aba0d868db74ebbb0a05a41f"
 },
 "nbformat": 3,
 "nbformat_minor": 0,
 "worksheets": [
  {
   "cells": [
    {
     "cell_type": "code",
     "collapsed": false,
     "input": [
      "% load_ext autoreload\n",
      "% autoreload 2\n",
      "% matplotlib inline\n",
      "% load_ext cythonmagic\n",
      "% config InlineBackend.figure_format = 'svg'\n",
      "import matplotlib.pyplot as plt\n",
      "import numpy as np, matplotlib\n",
      "\n",
      "from cython_lstm.network import Network\n",
      "from cython_lstm.neuron  import Neuron, LogisticNeuron, TanhNeuron, SoftmaxNeuron\n",
      "from cython_lstm.layers  import Layer, RecurrentLayer, RecurrentAveragingLayer, RecurrentGatedLayer, RecurrentMultiStageLayer\n",
      "from cython_lstm.trainer import Trainer\n",
      "from cython_lstm.dataset import create_xor_dataset, create_digit_dataset"
     ],
     "language": "python",
     "metadata": {},
     "outputs": [],
     "prompt_number": 1
    },
    {
     "cell_type": "code",
     "collapsed": false,
     "input": [
      "SIZE = 10\n",
      "recurrent_layer = RecurrentLayer(SIZE, SIZE, neuron = TanhNeuron)\n",
      "gate            = RecurrentGatedLayer(SIZE, neuron = LogisticNeuron)\n",
      "recurrent_layer.connect_to(gate, temporal = True)\n",
      "averaging_layer = RecurrentAveragingLayer(gate, recurrent_layer)\n",
      "averaging_layer.connect_to(recurrent_layer, temporal=True)\n",
      "recurrent_layer._initial_hidden_state += np.random.standard_normal(recurrent_layer._initial_hidden_state.shape)\n"
     ],
     "language": "python",
     "metadata": {},
     "outputs": [],
     "prompt_number": 103
    },
    {
     "cell_type": "code",
     "collapsed": false,
     "input": [
      "recurrent_layer.clear()\n",
      "recurrent_layer.allocate_activation(np.empty([10,2,10]))\n",
      "recurrent_layer.forward_propagate(np.random.randn(STREAMS,SIZE).astype(recurrent_layer.dtype))"
     ],
     "language": "python",
     "metadata": {},
     "outputs": [
      {
       "output_type": "stream",
       "stream": "stdout",
       "text": [
        "RecurrentLayer is allocating memory for its activations.\n"
       ]
      },
      {
       "metadata": {},
       "output_type": "pyout",
       "prompt_number": 96,
       "text": [
        "array([[ 0.22211121,  0.02746733,  0.06995598,  0.12685341,  0.16844729,\n",
        "        -0.26467553,  0.21364293, -0.01010543, -0.09044357, -0.0818873 ],\n",
        "       [ 0.22211121,  0.02746733,  0.06995598,  0.12685341,  0.16844729,\n",
        "        -0.26467553,  0.21364293, -0.01010543, -0.09044357, -0.0818873 ]], dtype=float32)"
       ]
      }
     ],
     "prompt_number": 96
    },
    {
     "cell_type": "code",
     "collapsed": false,
     "input": [
      "gate.clear()\n",
      "gate.allocate_activation(np.empty([10,2,10]))\n",
      "gate.forward_propagate(recurrent_layer._activation[0])"
     ],
     "language": "python",
     "metadata": {},
     "outputs": [
      {
       "output_type": "stream",
       "stream": "stdout",
       "text": [
        "RecurrentGatedLayer is allocating memory for its activations.\n"
       ]
      },
      {
       "metadata": {},
       "output_type": "pyout",
       "prompt_number": 102,
       "text": [
        "array([[ 0.50710303],\n",
        "       [ 0.50710303]], dtype=float32)"
       ]
      }
     ],
     "prompt_number": 102
    },
    {
     "cell_type": "code",
     "collapsed": false,
     "input": [
      "TIMESTEPS = 2\n",
      "STREAMS = 1\n",
      "recurrent_layer.activate(np.random.randn(TIMESTEPS,STREAMS,SIZE).astype(recurrent_layer.dtype))"
     ],
     "language": "python",
     "metadata": {},
     "outputs": [
      {
       "output_type": "stream",
       "stream": "stdout",
       "text": [
        "RecurrentLayer is allocating memory for its activations.\n",
        "RecurrentGatedLayer is allocating memory for its activations.\n",
        "RecurrentAveragingLayer is allocating memory for its activations.\n"
       ]
      }
     ],
     "prompt_number": 104
    },
    {
     "cell_type": "code",
     "collapsed": false,
     "input": [
      "recurrent_layer._activation"
     ],
     "language": "python",
     "metadata": {},
     "outputs": [
      {
       "metadata": {},
       "output_type": "pyout",
       "prompt_number": 105,
       "text": [
        "array([[[ 0.1355519 ,  0.00451592,  0.06585732,  0.32201898,  0.22342293,\n",
        "         -0.06624298, -0.18289462, -0.27568516, -0.2157743 , -0.10507901]],\n",
        "\n",
        "       [[ 0.19668889, -0.13814333, -0.00783558,  0.08904915,  0.07437875,\n",
        "          0.01617314, -0.14756979, -0.06569669, -0.05763197,  0.10156512]]], dtype=float32)"
       ]
      }
     ],
     "prompt_number": 105
    },
    {
     "cell_type": "code",
     "collapsed": false,
     "input": [
      "averaging_layer._activation"
     ],
     "language": "python",
     "metadata": {},
     "outputs": [
      {
       "metadata": {},
       "output_type": "pyout",
       "prompt_number": 106,
       "text": [
        "array([[[ 0.55654472,  0.09591509,  0.1057988 ,  0.39680701,  0.08045385,\n",
        "         -0.60191178, -0.39643553, -0.79922229,  0.10485951, -0.07773446]],\n",
        "\n",
        "       [[ 0.16397995, -0.06181912,  0.0315909 ,  0.21369047,  0.15411896,\n",
        "         -0.02792035, -0.16646895, -0.17804274, -0.14223978, -0.00899167]]], dtype=float32)"
       ]
      }
     ],
     "prompt_number": 106
    },
    {
     "cell_type": "code",
     "collapsed": false,
     "input": [
      "gate._activation"
     ],
     "language": "python",
     "metadata": {},
     "outputs": [
      {
       "metadata": {},
       "output_type": "pyout",
       "prompt_number": 107,
       "text": [
        "array([[[ 0.47516626]],\n",
        "\n",
        "       [[ 0.46498942]]], dtype=float32)"
       ]
      }
     ],
     "prompt_number": 107
    },
    {
     "cell_type": "code",
     "collapsed": false,
     "input": [],
     "language": "python",
     "metadata": {},
     "outputs": []
    }
   ],
   "metadata": {}
  }
 ]
}